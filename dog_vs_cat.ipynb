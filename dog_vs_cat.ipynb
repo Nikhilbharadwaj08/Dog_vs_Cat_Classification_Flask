{
 "cells": [
  {
   "cell_type": "code",
   "execution_count": 7,
   "metadata": {},
   "outputs": [],
   "source": [
    "import numpy as np \n",
    "import io\n",
    "from PIL import Image\n",
    "import tensorflow as tf\n",
    "import keras\n",
    "from keras import backend as K\n",
    "from keras.backend import clear_session\n",
    "from keras.preprocessing.image import ImageDataGenerator\n",
    "from keras.preprocessing.image import img_to_array\n",
    "from flask import Flask, request, jsonify,render_template\n",
    "import pickle\n",
    "import base64\n",
    "from keras.models import Sequential\n",
    "from keras.models import load_model\n",
    "\n",
    "\n",
    "app = Flask(__name__)\n",
    "\n",
    "\n",
    "def get_model():\n",
    "        \n",
    "       \n",
    "        global graph,model\n",
    "        graph = tf.get_default_graph()\n",
    "        model= load_model('VGG16_cats_and_dogs.h5')\n",
    "        print(\"model loaded!!\")\n",
    "\n",
    "def preprocess_image(image, target_size):\n",
    "        \n",
    "    if image.mode !=\"RGB\":\n",
    "            image=image.convert(\"RGB\")\n",
    "    image = image.resize(target_size)\n",
    "    image = img_to_array(image)\n",
    "    image = np.expand_dims(image,axis=0) \n",
    "\n",
    "    return image\n",
    "\n",
    "        #print(\"Not a .WAV format file\")\n",
    "    \n",
    "print(\" loading keros model\")\n",
    "get_model()\n",
    "\n",
    "@app.route(\"/predict\", methods=[\"POST\"])\n",
    "def predict():\n",
    "        message = request.get_json(force=True)\n",
    "        encoded = message['image']\n",
    "        decoded = base64.b64decode(encoded)\n",
    "        image = Image.open(io.BytesIO(decoded))\n",
    "        processed_image= preprocess_image(image, target_size=(224, 224))\n",
    "       \n",
    "        with graph.as_default():\n",
    "                prediction = model.predict(processed_image).tolist()\n",
    "\n",
    "        \n",
    "\n",
    "        response = {\n",
    "                'prediction':{\n",
    "                        'dog': prediction[0][0],\n",
    "                        'cat': prediction[0][1] \n",
    "        }\n",
    "    }          \n",
    "        \n",
    "        return jsonify(response)\n",
    "if __name__=='__main__':\n",
    "    app.run(debug=True)"
   ]
  },
  {
   "cell_type": "code",
   "execution_count": 6,
   "metadata": {},
   "outputs": [],
   "source": [
    "    "
   ]
  },
  {
   "cell_type": "code",
   "execution_count": 9,
   "metadata": {},
   "outputs": [],
   "source": []
  },
  {
   "cell_type": "code",
   "execution_count": null,
   "metadata": {},
   "outputs": [],
   "source": []
  },
  {
   "cell_type": "code",
   "execution_count": null,
   "metadata": {},
   "outputs": [],
   "source": []
  },
  {
   "cell_type": "code",
   "execution_count": null,
   "metadata": {},
   "outputs": [],
   "source": []
  },
  {
   "cell_type": "code",
   "execution_count": null,
   "metadata": {},
   "outputs": [],
   "source": []
  }
 ],
 "metadata": {
  "kernelspec": {
   "display_name": "Python 3",
   "language": "python",
   "name": "python3"
  },
  "language_info": {
   "codemirror_mode": {
    "name": "ipython",
    "version": 3
   },
   "file_extension": ".py",
   "mimetype": "text/x-python",
   "name": "python",
   "nbconvert_exporter": "python",
   "pygments_lexer": "ipython3",
   "version": "3.7.3"
  }
 },
 "nbformat": 4,
 "nbformat_minor": 2
}
